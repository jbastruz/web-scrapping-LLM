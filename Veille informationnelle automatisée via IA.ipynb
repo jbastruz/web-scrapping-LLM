{
 "cells": [
  {
   "cell_type": "markdown",
   "metadata": {},
   "source": [
    "<img src=\"https://media.theresanaiforthat.com/icons/mistral-ai.svg?height=207\" width=\"30\" height=\"30\">\n",
    "<h1 align = \"center\">Veille informationnelle automatisée via IA</h1>\n",
    "\n",
    "---\n",
    "\n",
    "Ce notebook est un essai sur l'utilisation de Mistral.AI dans le cadre d'une veille informationnelle sur internet.\n",
    "Le but est de récupérer des articles sur internet et d'en faire un résumé en utilisant `mistral.ai`, puis de les envoyer par e-mail en format HTML généré par `Mistral.ai`\n",
    "\n",
    "le code se découpe en 3 parties:\n",
    "\n",
    "- récuperation des articles via url avec `BeautifulSoup`\n",
    "- génération de résumé avec `Mistral.AI`\n",
    "- génération du contenu HTML pour l'envoyer par e-mail automatisé via `Mistral.AI`\n",
    "- envoi du message par e-mail\n",
    "\n",
    "nous d'étaillerons le code pas à pas dans le reste du notebook.\n",
    "\n",
    "## Chargement des Packages :\n"
   ]
  },
  {
   "cell_type": "code",
   "execution_count": 146,
   "metadata": {},
   "outputs": [],
   "source": [
    "import requests\n",
    "from bs4 import BeautifulSoup\n",
    "from mistralai.client import MistralClient\n",
    "from mistralai.models.chat_completion import ChatMessage\n",
    "import smtplib\n",
    "from email.mime.text import MIMEText\n",
    "from email.mime.multipart import MIMEMultipart"
   ]
  },
  {
   "cell_type": "markdown",
   "metadata": {},
   "source": [
    "## Extraction des articles\n",
    "Une fois les packages chargés, nous allons écrire le code permettant de récupérer les différent articles que l'on veut résumer.<br><br>\n",
    "chaque article est alors extrait sur base de l'adresse URL disponible dans le l'objet BeautifulSoup et stocké dans un dataframe nommé `Messages` qui permettra de traiter individuellement les articles par l'IA :"
   ]
  },
  {
   "cell_type": "code",
   "execution_count": 239,
   "metadata": {},
   "outputs": [],
   "source": [
    "response = requests.get(\"https://www.oppbtp.com\")\n",
    "soup = BeautifulSoup(response.text, 'html.parser')\n",
    "articles = soup.find_all('a', class_ = \"card card-column card-light no-decoration\")\n",
    "\n",
    "Messages = []\n",
    "\n",
    "for article in articles:\n",
    "    text = article.get(\"href\")\n",
    "    test = requests.get(text)\n",
    "    Messages.append(BeautifulSoup(test.text, 'html.parser').find('div', {'class':\"entry-content\"}).text.replace('\\n', ' ').strip())"
   ]
  },
  {
   "cell_type": "markdown",
   "metadata": {},
   "source": [
    "## Génération des résumés\n",
    "On défini le role de notre IA pour lui demander de nous fournir le résumé de l'article que l'on va lui donner en entrée :"
   ]
  },
  {
   "cell_type": "code",
   "execution_count": 240,
   "metadata": {},
   "outputs": [],
   "source": [
    "messages = [\n",
    "    ChatMessage(role=\"system\", content=\"Tu es un programme de génération de résumé à partir de texte que l'on te donne, tu ne fais que fournir un résumé du texte que l'on te donne en input\")\n",
    "]"
   ]
  },
  {
   "cell_type": "markdown",
   "metadata": {},
   "source": [
    "une fois le role défini, on va, pour chaque Message, demander au programme de nous fournir le résumé de l'article :"
   ]
  },
  {
   "cell_type": "code",
   "execution_count": 241,
   "metadata": {},
   "outputs": [],
   "source": [
    "model = \"mistral-medium-latest\"\n",
    "api_key=\"dXhF7z625frqL76yHgWY5PZJ9l0298mg\" # ne fonctionne plus après le 31 mars 2024\n",
    "\n",
    "responses = []\n",
    "\n",
    "for message in Messages:\n",
    "    messages.append(ChatMessage(role=\"user\", content=message))\n",
    "    client = MistralClient(api_key=api_key)\n",
    "    Mistral = client.chat(model=model, messages=messages)\n",
    "    responses.append(Mistral.choices[0].message.content.replace('\\n', ' '))\n",
    "    messages.pop(-1)"
   ]
  },
  {
   "cell_type": "markdown",
   "metadata": {},
   "source": [
    "Il va falloir regrouper toutes les reponses dans une seule chaîne de caractères pour pouvoir demander à l'IA de générer un mail sur base de tous les résumés qu'il a généré précedement :"
   ]
  },
  {
   "cell_type": "code",
   "execution_count": 242,
   "metadata": {},
   "outputs": [],
   "source": [
    "test = \"\"\n",
    "\n",
    "for i in range(len(responses)):\n",
    "    test = test + \"- titre de l'article : \" + articles[i].find(\"h4\").text+\", résumé de l'article : \"+ responses[i] + \"\\n\""
   ]
  },
  {
   "cell_type": "markdown",
   "metadata": {},
   "source": [
    "## Génération du corps du mail\n",
    "On défini ici un nouveau role au modèle, ici le but et de générer automatiquement un corp de mail, au format html, pour pouvoir générer la mise en forme, et envoyer par la suite au destinataire choisi :"
   ]
  },
  {
   "cell_type": "code",
   "execution_count": 274,
   "metadata": {},
   "outputs": [],
   "source": [
    "Mailer = [\n",
    "    ChatMessage(role=\"system\", content=\"tu es un assistant de creation de mail, tu ne reponds que par un corps de mail mis en page, étant un mail contenant les informations dans le message que tu reçois, tu commenceras par un message de politesse de 20 mots pour dire bonjour, de façon amicale, je veux simplement le corps du texte, sans titre. tu réponds au format HTML.\")\n",
    "]"
   ]
  },
  {
   "cell_type": "markdown",
   "metadata": {},
   "source": [
    "une fois le role défini, on va demander au programme de nous fournir le corps de mail :"
   ]
  },
  {
   "cell_type": "code",
   "execution_count": 275,
   "metadata": {},
   "outputs": [],
   "source": [
    "model = \"mistral-medium-latest\"\n",
    "api_key=\"dXhF7z625frqL76yHgWY5PZJ9l0298mg\" # ne fonctionne plus après le 31 mars 2024\n",
    "\n",
    "Mailer.append(ChatMessage(role=\"user\", content=test))\n",
    "client = MistralClient(api_key=api_key)\n",
    "Mistral = client.chat(model=model, messages=Mailer)\n",
    "responses = Mistral.choices[0].message.content"
   ]
  },
  {
   "cell_type": "markdown",
   "metadata": {},
   "source": [
    "on défini la fonction d'envoi du mail :"
   ]
  },
  {
   "cell_type": "code",
   "execution_count": 280,
   "metadata": {},
   "outputs": [],
   "source": [
    "def send_mail():\n",
    "    msg = MIMEMultipart()\n",
    "    msg['From'] = '******@gmail.com'\n",
    "    msg['To'] = '******@gmail.com'\n",
    "    msg['Subject'] = 'résumé d\\'article Mistral.AI'\n",
    "    body = responses\n",
    "\n",
    "    msg.attach(MIMEText(body, 'html'))\n",
    "\n",
    "    server = smtplib.SMTP('smtp.gmail.com', 587)\n",
    "    server.starttls()\n",
    "    server.login('*******@gmail.com', 'pogw xkis yjdf buff')\n",
    "    server.sendmail(\"******@gmail.com\", '******@gmail.com', msg.as_string())\n",
    "    server.quit()"
   ]
  },
  {
   "cell_type": "markdown",
   "metadata": {},
   "source": [
    "on execute la fonction d'envoi du mail :"
   ]
  },
  {
   "cell_type": "code",
   "execution_count": 281,
   "metadata": {},
   "outputs": [],
   "source": [
    "send_mail()"
   ]
  },
  {
   "cell_type": "markdown",
   "metadata": {},
   "source": [
    "Ce programme est un exemple d'utilisation de Mistral.AI, il est possible de l'utiliser pour d'autres projets. il est possible de récupérer du texte depuis une autre source. et ainsi travailler sur un autre type d'information. il faudra penser à travailler sur la manière d'extraire la donnée, qui peut être différente d'un site à l'autre."
   ]
  }
 ],
 "metadata": {
  "kernelspec": {
   "display_name": "Chatbot",
   "language": "python",
   "name": "python3"
  },
  "language_info": {
   "codemirror_mode": {
    "name": "ipython",
    "version": 3
   },
   "file_extension": ".py",
   "mimetype": "text/x-python",
   "name": "python",
   "nbconvert_exporter": "python",
   "pygments_lexer": "ipython3",
   "version": "3.12.2"
  }
 },
 "nbformat": 4,
 "nbformat_minor": 2
}
